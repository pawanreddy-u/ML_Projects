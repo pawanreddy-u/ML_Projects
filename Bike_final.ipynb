{
 "cells": [
  {
   "cell_type": "code",
   "execution_count": 288,
   "metadata": {},
   "outputs": [],
   "source": [
    "import numpy as np\n",
    "import matplotlib.pyplot as plt\n",
    "import pandas as pd\n",
    "import seaborn as sns\n",
    "from datetime import datetime\n",
    "sns.set_style('darkgrid')"
   ]
  },
  {
   "cell_type": "code",
   "execution_count": 289,
   "metadata": {},
   "outputs": [],
   "source": [
    "train1 = pd.read_csv('train.csv')"
   ]
  },
  {
   "cell_type": "code",
   "execution_count": 290,
   "metadata": {},
   "outputs": [],
   "source": [
    "test1 = pd.read_csv('test.csv')"
   ]
  },
  {
   "cell_type": "code",
   "execution_count": 291,
   "metadata": {},
   "outputs": [],
   "source": [
    "def pre_processing(df,train=True):\n",
    "    \n",
    "    if train == True:\n",
    "        \n",
    "        # Pre processing train data\n",
    "        #  Adding time and month to the dataframe using datatime column\n",
    "        time=[]\n",
    "        month=[]\n",
    "        for i in df['datetime']:\n",
    "                dt_object2 = datetime.strptime(i, \"%Y-%m-%d %H:%M:%S\")\n",
    "                time.append(dt_object2.hour)\n",
    "                month.append(dt_object2.month)\n",
    "        df['time'] = pd.DataFrame(time)\n",
    "        df['time'] = df['time'].astype(float)\n",
    "        df['month'] = pd.DataFrame(month)\n",
    "        df['month'] = df['month'].astype(float)\n",
    "        \n",
    "        # Dropping datetime column\n",
    "        df.drop('datetime',axis=1,inplace=True) \n",
    "        # Dropping holiday column as it is highly correlated to 'workingday' column\n",
    "        df.drop('holiday',axis=1,inplace=True) \n",
    "        # Dropping atemp column as it is highly correlated to 'temp' column\n",
    "        df = df.drop('atemp',axis=1) # No use \n",
    "\n",
    "        \n",
    "        # One hot encoding on categorical columns.\n",
    "        df = pd.get_dummies(df,columns=['season','weather'],drop_first=True)  \n",
    "        \n",
    "        # Median imputation if any\n",
    "        for i in df.columns:\n",
    "            df[i].fillna(value = df[i].median())\n",
    "        return df\n",
    "    \n",
    "    \n",
    "    else:\n",
    "        # Pre processing Test data\n",
    "        #  Adding time and month to the dataframe using datatime column\n",
    "        time=[]\n",
    "        month=[]\n",
    "        for i in df['datetime']:\n",
    "                dt_object2 = datetime.strptime(i, \"%Y-%m-%d %H:%M:%S\")\n",
    "                time.append(dt_object2.hour)\n",
    "                month.append(dt_object2.month)\n",
    "        df['time'] = pd.DataFrame(time)\n",
    "        df['time'] = df['time'].astype(float)\n",
    "        df['month'] = pd.DataFrame(month)\n",
    "        df['month'] = df['month'].astype(float)\n",
    "        \n",
    "        # Dropping datetime column\n",
    "        df.drop('datetime',axis=1,inplace=True) \n",
    "        # Dropping holiday column as it is highly correlated to 'workingday' column\n",
    "        df.drop('holiday',axis=1,inplace=True) \n",
    "        # Dropping atemp column as it is highly correlated to 'temp' column\n",
    "        df = df.drop('atemp',axis=1) \n",
    "        \n",
    "        # One hot encoding on categorical columns.\n",
    "        df = pd.get_dummies(df,columns=['season','weather'],drop_first=True)  \n",
    "        \n",
    "         # Median imputation if there are any null values\n",
    "        for i in df.columns:\n",
    "            df[i].fillna(value = df[i].median())\n",
    "            \n",
    "\n",
    "        return df  "
   ]
  },
  {
   "cell_type": "code",
   "execution_count": null,
   "metadata": {},
   "outputs": [],
   "source": []
  },
  {
   "cell_type": "code",
   "execution_count": null,
   "metadata": {},
   "outputs": [],
   "source": []
  },
  {
   "cell_type": "code",
   "execution_count": 292,
   "metadata": {},
   "outputs": [],
   "source": [
    "def model(df):\n",
    "    global nw_count_pred\n",
    "    global count_pred\n",
    "    global final_count\n",
    "    global model_1\n",
    "    global model_2\n",
    "    global model_3\n",
    "    global model_4\n",
    "\n",
    "    \n",
    "    # Segregating data based on 'workingday' column\n",
    "    work_day = df[df['workingday']==1] \n",
    "    non_work_day = df[df['workingday']==0]\n",
    "    # Model for registered\n",
    "    x = work_day.drop(['casual','registered','count'],axis = 1)\n",
    "    y = work_day.registered\n",
    "    # Dividing the data into train and test\n",
    "    from sklearn.model_selection import train_test_split\n",
    "    x_train,x_test,y_train,y_test = train_test_split(x,y,test_size = 0.30 ,random_state = 2)\n",
    "    \n",
    "    from sklearn.ensemble import RandomForestRegressor\n",
    "    from sklearn.ensemble import AdaBoostRegressor\n",
    "\n",
    "    # Finding best parameters for RandomForestRegressor\n",
    "    rf = RandomForestRegressor(random_state=0)\n",
    "    rf_params = {'n_estimators':np.arange(25,150,25),'max_depth':np.arange(1,11,2),'min_samples_leaf':np.arange(2,15,3)}\n",
    "    from sklearn.model_selection import GridSearchCV\n",
    "    gs_rf = GridSearchCV(rf,rf_params,cv=3)\n",
    "    gs_rf.fit(x_train,y_train)\n",
    "    \n",
    "    a = gs_rf.best_params_\n",
    "    \n",
    "    # Fitting the model with best params on the whole data\n",
    "    RF = RandomForestRegressor(n_estimators=a['n_estimators'],max_depth=a['max_depth'],min_samples_leaf=a['min_samples_leaf'],random_state=0)\n",
    "    \n",
    "    model_1 = RF.fit(x,y)\n",
    "    work_day_reg_pred = model_1.predict(x)\n",
    "    from sklearn.metrics import mean_squared_log_error\n",
    "    msle=mean_squared_log_error(work_day_reg_pred,y)\n",
    "    rmsle=np.sqrt(msle)\n",
    "    print('RMLSE for the wr:',rmsle) \n",
    "    # Plotting important features\n",
    "    importances = RF.feature_importances_\n",
    "    plt.title('Registered Feature Importances')\n",
    "    plt.barh(range(len(importances)), importances, color='g', align='center')\n",
    "    plt.yticks(range(len(importances)), x.columns)\n",
    "    plt.xlabel('Relative Importance')\n",
    "    plt.show()\n",
    "    \n",
    "    \n",
    "    # Model for registered\n",
    "    x = work_day.drop(['casual','registered','count'],axis = 1)\n",
    "    y = work_day.casual\n",
    "    # Dividing the data into train and test\n",
    "    from sklearn.model_selection import train_test_split\n",
    "    x_train,x_test,y_train,y_test = train_test_split(x,y,test_size = 0.30 ,random_state = 2)\n",
    "    \n",
    "    from sklearn.ensemble import RandomForestRegressor\n",
    "    # Finding best parameters for RandomForestRegressor\n",
    "    rf = RandomForestRegressor(random_state=0)\n",
    "    rf_params = {'n_estimators':np.arange(25,150,25),'max_depth':np.arange(1,11,2),'min_samples_leaf':np.arange(2,15,3)}\n",
    "    from sklearn.model_selection import GridSearchCV\n",
    "    gs_rf = GridSearchCV(rf,rf_params,cv=3)\n",
    "    gs_rf.fit(x_train,y_train)\n",
    "    \n",
    "    a = gs_rf.best_params_\n",
    "    \n",
    "    # Fitting the model with best params on the whole data\n",
    "    RF = RandomForestRegressor(n_estimators=a['n_estimators'],max_depth=a['max_depth'],min_samples_leaf=a['min_samples_leaf'],random_state=0)\n",
    "    \n",
    "    model_2 = RF.fit(x,y)\n",
    "\n",
    "    work_day_casual_pred = model_2.predict(x)\n",
    "    from sklearn.metrics import mean_squared_log_error\n",
    "    msle=mean_squared_log_error(work_day_casual_pred,y)\n",
    "    rmsle=np.sqrt(msle)\n",
    "    print('RMLSE for the wc:',rmsle) \n",
    "    \n",
    "    # Plotting important features\n",
    "    importances = RF.feature_importances_\n",
    "    plt.title('Casual-Feature Importances')\n",
    "    plt.barh(range(len(importances)), importances, color='g', align='center')\n",
    "    plt.yticks(range(len(importances)), x.columns)\n",
    "    plt.xlabel('Relative Importance')\n",
    "    plt.show()\n",
    "    \n",
    "    \n",
    "    # Adding the above predicted values of casual and registered\n",
    "    count_pred = pd.DataFrame()\n",
    "    count_pred['casual'] = work_day_casual_pred\n",
    "    count_pred['registered'] = work_day_reg_pred\n",
    "    count_pred['count_pred'] = work_day_casual_pred+work_day_reg_pred\n",
    "    count_pred.index = x.index\n",
    "    \n",
    "    \n",
    "     # Checking Root mean suared error of predicted count\n",
    "    from sklearn.metrics import mean_squared_log_error\n",
    "    msle=mean_squared_log_error(work_day['count'],count_pred['count_pred'])\n",
    "    rmsle=np.sqrt(msle)\n",
    "    print('RMLSE for a working day:',rmsle)\n",
    "    \n",
    "    # Model for registered\n",
    "    x = non_work_day.drop(['casual','registered','count'],axis = 1)\n",
    "    y = non_work_day.registered\n",
    "    # Dividing the data into train and test\n",
    "    from sklearn.model_selection import train_test_split\n",
    "    x_train,x_test,y_train,y_test = train_test_split(x,y,test_size = 0.30 ,random_state = 2)\n",
    "    \n",
    "    from sklearn.ensemble import RandomForestRegressor\n",
    "    # Finding best parameters for RandomForestRegressor\n",
    "    rf = RandomForestRegressor(random_state=0)\n",
    "    rf_params = {'n_estimators':np.arange(25,150,25),'max_depth':np.arange(1,11,2),'min_samples_leaf':np.arange(2,15,3)}\n",
    "    from sklearn.model_selection import GridSearchCV\n",
    "    gs_rf = GridSearchCV(rf,rf_params,cv=3)\n",
    "    gs_rf.fit(x_train,y_train)\n",
    "    \n",
    "    a = gs_rf.best_params_\n",
    "    \n",
    "    # Fitting the model with best params on the whole data\n",
    "    RF = RandomForestRegressor(n_estimators=a['n_estimators'],max_depth=a['max_depth'],min_samples_leaf=a['min_samples_leaf'],random_state=0)\n",
    "    \n",
    "    model_3 = RF.fit(x,y)\n",
    "\n",
    "    non_work_day_reg_pred = model_3.predict(x)\n",
    "    from sklearn.metrics import mean_squared_log_error\n",
    "    msle=mean_squared_log_error(non_work_day_reg_pred,y)\n",
    "    rmsle=np.sqrt(msle)\n",
    "    print('RMLSE for the nwr:',rmsle) \n",
    "    \n",
    "    # Plotting important features\n",
    "    importances = RF.feature_importances_\n",
    "    plt.title('Registered Feature Importances')\n",
    "    plt.barh(range(len(importances)), importances, color='g', align='center')\n",
    "    plt.yticks(range(len(importances)), x.columns)\n",
    "    plt.xlabel('Relative Importance')\n",
    "    plt.show()\n",
    "    \n",
    "    \n",
    "    # Model for registered\n",
    "    x = non_work_day.drop(['casual','registered','count'],axis = 1)\n",
    "    y = non_work_day.casual\n",
    "    # Dividing the data into train and test\n",
    "    from sklearn.model_selection import train_test_split\n",
    "    x_train,x_test,y_train,y_test = train_test_split(x,y,test_size = 0.30 ,random_state = 2)\n",
    "    \n",
    "    from sklearn.ensemble import RandomForestRegressor\n",
    "    # Finding best parameters for RandomForestRegressor\n",
    "    rf = RandomForestRegressor(random_state=0)\n",
    "    rf_params = {'n_estimators':np.arange(25,150,25),'max_depth':np.arange(1,11,2),'min_samples_leaf':np.arange(2,15,3)}\n",
    "    from sklearn.model_selection import GridSearchCV\n",
    "    gs_rf = GridSearchCV(rf,rf_params,cv=3)\n",
    "    gs_rf.fit(x_train,y_train)\n",
    "    \n",
    "    a = gs_rf.best_params_\n",
    "    \n",
    "    # Fitting the model with best params on the whole data\n",
    "    RF = RandomForestRegressor(n_estimators=a['n_estimators'],max_depth=a['max_depth'],min_samples_leaf=a['min_samples_leaf'],random_state=0)\n",
    "    \n",
    "    model_4 = RF.fit(x,y)\n",
    "\n",
    "    non_work_day_casual_pred = model_4.predict(x)\n",
    "    from sklearn.metrics import mean_squared_log_error\n",
    "    msle=mean_squared_log_error(non_work_day_casual_pred,y)\n",
    "    rmsle=np.sqrt(msle)\n",
    "    print('RMLSE for the nwc:',rmsle) \n",
    "    \n",
    "    \n",
    "    # Plotting important features\n",
    "    importances = RF.feature_importances_\n",
    "    plt.title('Casual-Feature Importances')\n",
    "    plt.barh(range(len(importances)), importances, color='g', align='center')\n",
    "    plt.yticks(range(len(importances)), x.columns)\n",
    "    plt.xlabel('Relative Importance')\n",
    "    plt.show()\n",
    "    \n",
    "\n",
    "    nw_count_pred = pd.DataFrame()\n",
    "    nw_count_pred['casual'] = non_work_day_casual_pred\n",
    "    nw_count_pred['registered'] = non_work_day_reg_pred\n",
    "    nw_count_pred['nw_count_pred'] = non_work_day_casual_pred+non_work_day_reg_pred\n",
    "    nw_count_pred.index = x.index\n",
    "\n",
    "    \n",
    "    from sklearn.metrics import mean_squared_log_error\n",
    "    msle=mean_squared_log_error(non_work_day['count'],nw_count_pred['nw_count_pred'])\n",
    "    rmsle=np.sqrt(msle)\n",
    "    print('RMLSE for a non working day:',rmsle)\n",
    "    \n",
    "    final_count = pd.DataFrame()\n",
    "    final_count = pd.concat([count_pred['count_pred'],nw_count_pred['nw_count_pred']])\n",
    "    final_count.sort_index(inplace = True)\n",
    "    \n",
    "         # Checking Root mean suared error of predicted count\n",
    "    from sklearn.metrics import mean_squared_log_error\n",
    "    msle=mean_squared_log_error(df['count'],final_count)\n",
    "    rmsle=np.sqrt(msle)\n",
    "    print('RMLSE for the whole data:',rmsle)\n"
   ]
  },
  {
   "cell_type": "code",
   "execution_count": null,
   "metadata": {},
   "outputs": [],
   "source": []
  },
  {
   "cell_type": "code",
   "execution_count": null,
   "metadata": {
    "scrolled": true
   },
   "outputs": [],
   "source": []
  },
  {
   "cell_type": "code",
   "execution_count": 293,
   "metadata": {},
   "outputs": [
    {
     "name": "stdout",
     "output_type": "stream",
     "text": [
      "RMLSE for the wr: 0.35828603845213014\n"
     ]
    },
    {
     "data": {
      "image/png": "[encoded data removed]",
      "text/plain": [
       "<Figure size 432x288 with 1 Axes>"
      ]
     },
     "metadata": {},
     "output_type": "display_data"
    },
    {
     "name": "stdout",
     "output_type": "stream",
     "text": [
      "RMLSE for the wc: 0.47384540209764753\n"
     ]
    },
    {
     "data": {
      "image/png": "[encoded data removed]",
      "text/plain": [
       "<Figure size 432x288 with 1 Axes>"
      ]
     },
     "metadata": {},
     "output_type": "display_data"
    },
    {
     "name": "stdout",
     "output_type": "stream",
     "text": [
      "RMLSE for a working day: 0.34882152854162574\n",
      "RMLSE for the nwr: 0.36758325566991074\n"
     ]
    },
    {
     "data": {
      "image/png": "[encoded data removed]",
      "text/plain": [
       "<Figure size 432x288 with 1 Axes>"
      ]
     },
     "metadata": {},
     "output_type": "display_data"
    },
    {
     "name": "stdout",
     "output_type": "stream",
     "text": [
      "RMLSE for the nwc: 0.45488355422120313\n"
     ]
    },
    {
     "data": {
      "image/png": "[encoded data removed]",
      "text/plain": [
       "<Figure size 432x288 with 1 Axes>"
      ]
     },
     "metadata": {},
     "output_type": "display_data"
    },
    {
     "name": "stdout",
     "output_type": "stream",
     "text": [
      "RMLSE for a non working day: 0.358245884870285\n",
      "RMLSE for the whole data: 0.35185650622124004\n"
     ]
    }
   ],
   "source": [
    "a = pre_processing(train1,train=True)\n",
    "model(a)"
   ]
  },
  {
   "cell_type": "code",
   "execution_count": null,
   "metadata": {},
   "outputs": [],
   "source": []
  },
  {
   "cell_type": "code",
   "execution_count": 294,
   "metadata": {
    "scrolled": true
   },
   "outputs": [],
   "source": [
    "def model_test(df):\n",
    "    global nw_count_pred\n",
    "    global count_pred\n",
    "    global final_count\n",
    "    \n",
    "    # Segregating data based on 'workingday' column\n",
    "    work_day = df[df['workingday']==1] \n",
    "    non_work_day = df[df['workingday']==0]\n",
    "    # Model for registered\n",
    "    x = work_day\n",
    "\n",
    "    work_day_reg_pred = model_1.predict(x)\n",
    "    \n",
    "\n",
    "    # Model for registered\n",
    "    x = work_day\n",
    "\n",
    "    work_day_casual_pred = model_2.predict(x)\n",
    "\n",
    "    \n",
    "    # Adding the above predicted values of casual and registered\n",
    "    count_pred = pd.DataFrame()\n",
    "    count_pred['casual'] = work_day_casual_pred\n",
    "    count_pred['registered'] = work_day_reg_pred\n",
    "    count_pred['count_pred'] = work_day_casual_pred+work_day_reg_pred\n",
    "    count_pred.index = x.index\n",
    "    \n",
    "\n",
    "    # Model for registered\n",
    "    x = non_work_day\n",
    "    non_work_day_reg_pred = model_3.predict(x)\n",
    "    \n",
    "\n",
    "    # Model for registered\n",
    "    x = non_work_day\n",
    "    non_work_day_casual_pred = model_4.predict(x)\n",
    "\n",
    "\n",
    "    nw_count_pred = pd.DataFrame()\n",
    "    nw_count_pred['casual'] = non_work_day_casual_pred\n",
    "    nw_count_pred['registered'] = non_work_day_reg_pred\n",
    "    nw_count_pred['nw_count_pred'] = non_work_day_casual_pred+non_work_day_reg_pred\n",
    "    nw_count_pred.index = x.index\n",
    "\n",
    "\n",
    "    \n",
    "    final_count = pd.DataFrame()\n",
    "    final_count = pd.concat([count_pred['count_pred'],nw_count_pred['nw_count_pred']])\n",
    "    final_count.sort_index(inplace = True)\n",
    "    \n"
   ]
  },
  {
   "cell_type": "code",
   "execution_count": null,
   "metadata": {},
   "outputs": [],
   "source": []
  },
  {
   "cell_type": "code",
   "execution_count": 295,
   "metadata": {},
   "outputs": [],
   "source": [
    "a = pre_processing(test1,train=False)\n",
    "model_test(a)\n"
   ]
  },
  {
   "cell_type": "code",
   "execution_count": null,
   "metadata": {},
   "outputs": [],
   "source": []
  },
  {
   "cell_type": "code",
   "execution_count": null,
   "metadata": {
    "scrolled": true
   },
   "outputs": [],
   "source": []
  },
  {
   "cell_type": "code",
   "execution_count": 296,
   "metadata": {},
   "outputs": [
    {
     "data": {
      "text/html": [
       "<div>\n",
       "<style scoped>\n",
       "    .dataframe tbody tr th:only-of-type {\n",
       "        vertical-align: middle;\n",
       "    }\n",
       "\n",
       "    .dataframe tbody tr th {\n",
       "        vertical-align: top;\n",
       "    }\n",
       "\n",
       "    .dataframe thead th {\n",
       "        text-align: right;\n",
       "    }\n",
       "</style>\n",
       "<table border=\"1\" class=\"dataframe\">\n",
       "  <thead>\n",
       "    <tr style=\"text-align: right;\">\n",
       "      <th></th>\n",
       "      <th>datetime</th>\n",
       "      <th>count</th>\n",
       "    </tr>\n",
       "  </thead>\n",
       "  <tbody>\n",
       "    <tr>\n",
       "      <th>0</th>\n",
       "      <td>2011-01-20 00:00:00</td>\n",
       "      <td>0</td>\n",
       "    </tr>\n",
       "    <tr>\n",
       "      <th>1</th>\n",
       "      <td>2011-01-20 01:00:00</td>\n",
       "      <td>0</td>\n",
       "    </tr>\n",
       "    <tr>\n",
       "      <th>2</th>\n",
       "      <td>2011-01-20 02:00:00</td>\n",
       "      <td>0</td>\n",
       "    </tr>\n",
       "    <tr>\n",
       "      <th>3</th>\n",
       "      <td>2011-01-20 03:00:00</td>\n",
       "      <td>0</td>\n",
       "    </tr>\n",
       "    <tr>\n",
       "      <th>4</th>\n",
       "      <td>2011-01-20 04:00:00</td>\n",
       "      <td>0</td>\n",
       "    </tr>\n",
       "  </tbody>\n",
       "</table>\n",
       "</div>"
      ],
      "text/plain": [
       "              datetime  count\n",
       "0  2011-01-20 00:00:00      0\n",
       "1  2011-01-20 01:00:00      0\n",
       "2  2011-01-20 02:00:00      0\n",
       "3  2011-01-20 03:00:00      0\n",
       "4  2011-01-20 04:00:00      0"
      ]
     },
     "execution_count": 296,
     "metadata": {},
     "output_type": "execute_result"
    }
   ],
   "source": [
    "ss = pd.read_csv('sampleSubmission.csv')\n",
    "ss.head()"
   ]
  },
  {
   "cell_type": "code",
   "execution_count": 300,
   "metadata": {},
   "outputs": [],
   "source": [
    "ss['count'] = final_count"
   ]
  },
  {
   "cell_type": "code",
   "execution_count": 301,
   "metadata": {},
   "outputs": [
    {
     "data": {
      "text/html": [
       "<div>\n",
       "<style scoped>\n",
       "    .dataframe tbody tr th:only-of-type {\n",
       "        vertical-align: middle;\n",
       "    }\n",
       "\n",
       "    .dataframe tbody tr th {\n",
       "        vertical-align: top;\n",
       "    }\n",
       "\n",
       "    .dataframe thead th {\n",
       "        text-align: right;\n",
       "    }\n",
       "</style>\n",
       "<table border=\"1\" class=\"dataframe\">\n",
       "  <thead>\n",
       "    <tr style=\"text-align: right;\">\n",
       "      <th></th>\n",
       "      <th>datetime</th>\n",
       "      <th>count</th>\n",
       "    </tr>\n",
       "  </thead>\n",
       "  <tbody>\n",
       "    <tr>\n",
       "      <th>0</th>\n",
       "      <td>2011-01-20 00:00:00</td>\n",
       "      <td>12.237781</td>\n",
       "    </tr>\n",
       "    <tr>\n",
       "      <th>1</th>\n",
       "      <td>2011-01-20 01:00:00</td>\n",
       "      <td>6.016530</td>\n",
       "    </tr>\n",
       "    <tr>\n",
       "      <th>2</th>\n",
       "      <td>2011-01-20 02:00:00</td>\n",
       "      <td>4.656349</td>\n",
       "    </tr>\n",
       "    <tr>\n",
       "      <th>3</th>\n",
       "      <td>2011-01-20 03:00:00</td>\n",
       "      <td>2.871552</td>\n",
       "    </tr>\n",
       "    <tr>\n",
       "      <th>4</th>\n",
       "      <td>2011-01-20 04:00:00</td>\n",
       "      <td>2.592699</td>\n",
       "    </tr>\n",
       "  </tbody>\n",
       "</table>\n",
       "</div>"
      ],
      "text/plain": [
       "              datetime      count\n",
       "0  2011-01-20 00:00:00  12.237781\n",
       "1  2011-01-20 01:00:00   6.016530\n",
       "2  2011-01-20 02:00:00   4.656349\n",
       "3  2011-01-20 03:00:00   2.871552\n",
       "4  2011-01-20 04:00:00   2.592699"
      ]
     },
     "execution_count": 301,
     "metadata": {},
     "output_type": "execute_result"
    }
   ],
   "source": [
    "ss.head()"
   ]
  },
  {
   "cell_type": "code",
   "execution_count": 302,
   "metadata": {},
   "outputs": [],
   "source": [
    "ss.to_csv('bike_submission9.csv',index=False)\n"
   ]
  },
  {
   "cell_type": "code",
   "execution_count": null,
   "metadata": {},
   "outputs": [],
   "source": []
  },
  {
   "cell_type": "code",
   "execution_count": null,
   "metadata": {},
   "outputs": [],
   "source": []
  },
  {
   "cell_type": "code",
   "execution_count": null,
   "metadata": {},
   "outputs": [],
   "source": []
  },
  {
   "cell_type": "code",
   "execution_count": null,
   "metadata": {},
   "outputs": [],
   "source": []
  },
  {
   "cell_type": "code",
   "execution_count": null,
   "metadata": {},
   "outputs": [],
   "source": []
  }
 ],
 "metadata": {
  "kernelspec": {
   "display_name": "Python 3",
   "language": "python",
   "name": "python3"
  },
  "language_info": {
   "codemirror_mode": {
    "name": "ipython",
    "version": 3
   },
   "file_extension": ".py",
   "mimetype": "text/x-python",
   "name": "python",
   "nbconvert_exporter": "python",
   "pygments_lexer": "ipython3",
   "version": "3.7.3"
  }
 },
 "nbformat": 4,
 "nbformat_minor": 2
}
