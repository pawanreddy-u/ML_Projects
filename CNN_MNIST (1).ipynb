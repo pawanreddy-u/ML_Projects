{
  "nbformat": 4,
  "nbformat_minor": 0,
  "metadata": {
    "colab": {
      "name": "CNN_MNIST.ipynb",
      "version": "0.3.2",
      "provenance": [],
      "collapsed_sections": []
    },
    "kernelspec": {
      "name": "python3",
      "display_name": "Python 3"
    }
  },
  "cells": [
    {
      "metadata": {
        "id": "FNWIdtkR1GfH",
        "colab_type": "text"
      },
      "cell_type": "markdown",
      "source": [
        "# **Case-1**"
      ]
    },
    {
      "metadata": {
        "id": "tZohhzgoEhLh",
        "colab_type": "code",
        "outputId": "aeaa2112-7649-4786-aab2-02b11bb50c00",
        "colab": {
          "base_uri": "https://localhost:8080/",
          "height": 569
        }
      },
      "cell_type": "code",
      "source": [
        "\n",
        "\n",
        "from __future__ import print_function\n",
        "import keras\n",
        "from keras.datasets import mnist\n",
        "from keras.models import Sequential\n",
        "from keras.layers import Dense, Dropout, Flatten\n",
        "from keras.layers import Conv2D, MaxPooling2D\n",
        "from keras import backend as K\n",
        "\n",
        "batch_size = 128\n",
        "num_classes = 10\n",
        "epochs = 12\n",
        "\n",
        "# input image dimensions\n",
        "img_rows, img_cols = 28, 28\n",
        "\n",
        "# the data, split between train and test sets\n",
        "(x_train, y_train), (x_test, y_test) = mnist.load_data()\n",
        "\n",
        "if K.image_data_format() == 'channels_first':\n",
        "    x_train = x_train.reshape(x_train.shape[0], 1, img_rows, img_cols)\n",
        "    x_test = x_test.reshape(x_test.shape[0], 1, img_rows, img_cols)\n",
        "    input_shape = (1, img_rows, img_cols)\n",
        "else:\n",
        "    x_train = x_train.reshape(x_train.shape[0], img_rows, img_cols, 1)\n",
        "    x_test = x_test.reshape(x_test.shape[0], img_rows, img_cols, 1)\n",
        "    input_shape = (img_rows, img_cols, 1)\n",
        "\n",
        "x_train = x_train.astype('float32')\n",
        "x_test = x_test.astype('float32')\n",
        "x_train /= 255\n",
        "x_test /= 255\n",
        "print('x_train shape:', x_train.shape)\n",
        "print(x_train.shape[0], 'train samples')\n",
        "print(x_test.shape[0], 'test samples')\n",
        "\n",
        "# convert class vectors to binary class matrices\n",
        "y_train = keras.utils.to_categorical(y_train, num_classes)\n",
        "y_test = keras.utils.to_categorical(y_test, num_classes)\n",
        "\n",
        "model = Sequential()\n",
        "model.add(Conv2D(25, kernel_size=(5, 5),\n",
        "                 activation='relu',\n",
        "                 input_shape=input_shape))\n",
        "model.add(Conv2D(35, (3, 3), activation='relu'))\n",
        "model.add(MaxPooling2D(pool_size=(2, 2)))\n",
        "model.add(Dropout(0.25))\n",
        "model.add(Flatten())\n",
        "model.add(Dense(128, activation='relu'))\n",
        "model.add(Dropout(0.5))\n",
        "model.add(Dense(num_classes, activation='softmax'))\n",
        "\n",
        "model.compile(loss=keras.losses.categorical_crossentropy,\n",
        "              optimizer=keras.optimizers.Adadelta(),\n",
        "              metrics=['accuracy'])\n",
        "\n",
        "model.fit(x_train, y_train,\n",
        "          batch_size=batch_size,\n",
        "          epochs=epochs,\n",
        "          verbose=1,\n",
        "          validation_data=(x_test, y_test))\n",
        "score = model.evaluate(x_test, y_test, verbose=0)\n",
        "print('Test loss:', score[0])\n",
        "print('Test accuracy:', score[1])"
      ],
      "execution_count": 0,
      "outputs": [
        {
          "output_type": "stream",
          "text": [
            "Using TensorFlow backend.\n"
          ],
          "name": "stderr"
        },
        {
          "output_type": "stream",
          "text": [
            "Downloading data from https://s3.amazonaws.com/img-datasets/mnist.npz\n",
            "11493376/11490434 [==============================] - 1s 0us/step\n",
            "x_train shape: (60000, 28, 28, 1)\n",
            "60000 train samples\n",
            "10000 test samples\n",
            "Train on 60000 samples, validate on 10000 samples\n",
            "Epoch 1/12\n",
            "60000/60000 [==============================] - 135s 2ms/step - loss: 0.2569 - acc: 0.9211 - val_loss: 0.0559 - val_acc: 0.9828\n",
            "Epoch 2/12\n",
            "60000/60000 [==============================] - 135s 2ms/step - loss: 0.0908 - acc: 0.9727 - val_loss: 0.0396 - val_acc: 0.9862\n",
            "Epoch 3/12\n",
            "60000/60000 [==============================] - 135s 2ms/step - loss: 0.0702 - acc: 0.9785 - val_loss: 0.0406 - val_acc: 0.9861\n",
            "Epoch 4/12\n",
            "60000/60000 [==============================] - 136s 2ms/step - loss: 0.0573 - acc: 0.9829 - val_loss: 0.0341 - val_acc: 0.9877\n",
            "Epoch 5/12\n",
            "60000/60000 [==============================] - 135s 2ms/step - loss: 0.0499 - acc: 0.9855 - val_loss: 0.0328 - val_acc: 0.9892\n",
            "Epoch 6/12\n",
            "60000/60000 [==============================] - 136s 2ms/step - loss: 0.0454 - acc: 0.9868 - val_loss: 0.0290 - val_acc: 0.9901\n",
            "Epoch 7/12\n",
            "60000/60000 [==============================] - 135s 2ms/step - loss: 0.0396 - acc: 0.9880 - val_loss: 0.0271 - val_acc: 0.9901\n",
            "Epoch 8/12\n",
            "60000/60000 [==============================] - 135s 2ms/step - loss: 0.0385 - acc: 0.9887 - val_loss: 0.0299 - val_acc: 0.9903\n",
            "Epoch 9/12\n",
            "60000/60000 [==============================] - 136s 2ms/step - loss: 0.0362 - acc: 0.9890 - val_loss: 0.0254 - val_acc: 0.9914\n",
            "Epoch 10/12\n",
            "60000/60000 [==============================] - 135s 2ms/step - loss: 0.0328 - acc: 0.9900 - val_loss: 0.0293 - val_acc: 0.9903\n",
            "Epoch 11/12\n",
            "60000/60000 [==============================] - 136s 2ms/step - loss: 0.0308 - acc: 0.9901 - val_loss: 0.0238 - val_acc: 0.9915\n",
            "Epoch 12/12\n",
            "60000/60000 [==============================] - 135s 2ms/step - loss: 0.0293 - acc: 0.9910 - val_loss: 0.0230 - val_acc: 0.9921\n",
            "Test loss: 0.02297585216281004\n",
            "Test accuracy: 0.9921\n"
          ],
          "name": "stdout"
        }
      ]
    },
    {
      "metadata": {
        "id": "OtDbsrY2C9If",
        "colab_type": "code",
        "outputId": "2a676638-b72b-46e2-d8ba-4b3c83020adc",
        "colab": {
          "base_uri": "https://localhost:8080/",
          "height": 361
        }
      },
      "cell_type": "code",
      "source": [
        "TrainLoss=[0.2569,0.0908 ,0.0702,0.0573,0.0499,0.0454 ,0.0396,0.0385,0.0362,0.0328,0.0308,0.0293]\n",
        "ValidationLoss=[0.0559 ,0.0396,0.0406,0.0341,0.0328,0.0290,0.0271,0.0299,0.0254 ,0.0293,0.0238,0.0230]\n",
        "epochs=[1,2,3,4,5,6,7,8,9,10,11,12]\n",
        "import matplotlib.pyplot as plt\n",
        "import numpy as np\n",
        "def plt_dynamic(x, vy, ty, ax, colors=['b']):\n",
        "    ax.plot(x, vy, 'b', label=\"Validation Loss\")\n",
        "    ax.plot(x, ty, 'r', label=\"Train Loss\")\n",
        "    plt.legend()\n",
        "    plt.grid()\n",
        "    fig.canvas.draw()\n",
        "fig,ax = plt.subplots(1,1)\n",
        "ax.set_xlabel('epochs') ; ax.set_ylabel('Categorical Crossentropy Loss')\n",
        "ty= TrainLoss\n",
        "vy= ValidationLoss\n",
        "x=epochs\n",
        "plt_dynamic(x, vy, ty, ax)"
      ],
      "execution_count": 0,
      "outputs": [
        {
          "output_type": "display_data",
          "data": {
            "image/png": "[encoded data removed]",
            "text/plain": [
              "<matplotlib.figure.Figure at 0x7fab40c32160>"
            ]
          },
          "metadata": {
            "tags": []
          }
        }
      ]
    },
    {
      "metadata": {
        "id": "xpQr6JlF1X6u",
        "colab_type": "text"
      },
      "cell_type": "markdown",
      "source": [
        "# **Case-2**"
      ]
    },
    {
      "metadata": {
        "id": "p43MAZxXH-9m",
        "colab_type": "code",
        "outputId": "3f824a24-0db1-4e6f-c19c-4fb572be18e7",
        "colab": {
          "base_uri": "https://localhost:8080/",
          "height": 518
        }
      },
      "cell_type": "code",
      "source": [
        "\n",
        "\n",
        "from __future__ import print_function\n",
        "import keras\n",
        "from keras.datasets import mnist\n",
        "from keras.models import Sequential\n",
        "from keras.layers import Dense, Dropout, Flatten\n",
        "from keras.layers import Conv2D, MaxPooling2D\n",
        "from keras import backend as K\n",
        "from keras.layers.normalization import BatchNormalization\n",
        "\n",
        "batch_size = 128\n",
        "num_classes = 10\n",
        "epochs = 12\n",
        "\n",
        "# input image dimensions\n",
        "img_rows, img_cols = 28, 28\n",
        "\n",
        "# the data, split between train and test sets\n",
        "(x_train, y_train), (x_test, y_test) = mnist.load_data()\n",
        "\n",
        "if K.image_data_format() == 'channels_first':\n",
        "    x_train = x_train.reshape(x_train.shape[0], 1, img_rows, img_cols)\n",
        "    x_test = x_test.reshape(x_test.shape[0], 1, img_rows, img_cols)\n",
        "    input_shape = (1, img_rows, img_cols)\n",
        "else:\n",
        "    x_train = x_train.reshape(x_train.shape[0], img_rows, img_cols, 1)\n",
        "    x_test = x_test.reshape(x_test.shape[0], img_rows, img_cols, 1)\n",
        "    input_shape = (img_rows, img_cols, 1)\n",
        "\n",
        "x_train = x_train.astype('float32')\n",
        "x_test = x_test.astype('float32')\n",
        "x_train /= 255\n",
        "x_test /= 255\n",
        "print('x_train shape:', x_train.shape)\n",
        "print(x_train.shape[0], 'train samples')\n",
        "print(x_test.shape[0], 'test samples')\n",
        "\n",
        "# convert class vectors to binary class matrices\n",
        "y_train = keras.utils.to_categorical(y_train, num_classes)\n",
        "y_test = keras.utils.to_categorical(y_test, num_classes)\n",
        "\n",
        "model = Sequential()\n",
        "model.add(Conv2D(32, kernel_size=(4, 4),\n",
        "                 activation='relu',\n",
        "                 input_shape=input_shape))\n",
        "model.add(BatchNormalization())\n",
        "model.add(MaxPooling2D(pool_size=(2, 2)))\n",
        "\n",
        "\n",
        "model.add(Conv2D(64, (2, 2), activation='relu'))\n",
        "model.add(BatchNormalization())\n",
        "\n",
        "model.add(MaxPooling2D(pool_size=(2, 2)))\n",
        "model.add(Dropout(0.25))\n",
        "model.add(Flatten())\n",
        "model.add(Dense(128, activation='relu'))\n",
        "model.add(Dropout(0.5))\n",
        "model.add(BatchNormalization())\n",
        "\n",
        "model.add(Dense(num_classes, activation='softmax'))\n",
        "\n",
        "model.compile(loss=keras.losses.categorical_crossentropy,\n",
        "              optimizer=keras.optimizers.Adadelta(),\n",
        "              metrics=['accuracy'])\n",
        "\n",
        "model.fit(x_train, y_train,\n",
        "          batch_size=batch_size,\n",
        "          epochs=epochs,\n",
        "          verbose=1,\n",
        "          validation_data=(x_test, y_test))\n",
        "score = model.evaluate(x_test, y_test, verbose=0)\n",
        "print('Test loss:', score[0])\n",
        "print('Test accuracy:', score[1])"
      ],
      "execution_count": 0,
      "outputs": [
        {
          "output_type": "stream",
          "text": [
            "x_train shape: (60000, 28, 28, 1)\n",
            "60000 train samples\n",
            "10000 test samples\n",
            "Train on 60000 samples, validate on 10000 samples\n",
            "Epoch 1/12\n",
            "60000/60000 [==============================] - 148s 2ms/step - loss: 0.2339 - acc: 0.9331 - val_loss: 0.0520 - val_acc: 0.9843\n",
            "Epoch 2/12\n",
            "60000/60000 [==============================] - 146s 2ms/step - loss: 0.0837 - acc: 0.9759 - val_loss: 0.0414 - val_acc: 0.9861\n",
            "Epoch 3/12\n",
            "60000/60000 [==============================] - 146s 2ms/step - loss: 0.0648 - acc: 0.9812 - val_loss: 0.0330 - val_acc: 0.9896\n",
            "Epoch 4/12\n",
            "60000/60000 [==============================] - 146s 2ms/step - loss: 0.0543 - acc: 0.9838 - val_loss: 0.0300 - val_acc: 0.9902\n",
            "Epoch 5/12\n",
            "60000/60000 [==============================] - 147s 2ms/step - loss: 0.0474 - acc: 0.9854 - val_loss: 0.0374 - val_acc: 0.9875\n",
            "Epoch 6/12\n",
            "60000/60000 [==============================] - 146s 2ms/step - loss: 0.0428 - acc: 0.9874 - val_loss: 0.0263 - val_acc: 0.9911\n",
            "Epoch 7/12\n",
            "60000/60000 [==============================] - 146s 2ms/step - loss: 0.0364 - acc: 0.9886 - val_loss: 0.0347 - val_acc: 0.9884\n",
            "Epoch 8/12\n",
            "60000/60000 [==============================] - 146s 2ms/step - loss: 0.0366 - acc: 0.9892 - val_loss: 0.0294 - val_acc: 0.9904\n",
            "Epoch 9/12\n",
            "60000/60000 [==============================] - 146s 2ms/step - loss: 0.0350 - acc: 0.9893 - val_loss: 0.0266 - val_acc: 0.9918\n",
            "Epoch 10/12\n",
            "60000/60000 [==============================] - 147s 2ms/step - loss: 0.0319 - acc: 0.9904 - val_loss: 0.0254 - val_acc: 0.9915\n",
            "Epoch 11/12\n",
            "60000/60000 [==============================] - 147s 2ms/step - loss: 0.0286 - acc: 0.9909 - val_loss: 0.0271 - val_acc: 0.9911\n",
            "Epoch 12/12\n",
            "60000/60000 [==============================] - 146s 2ms/step - loss: 0.0290 - acc: 0.9910 - val_loss: 0.0252 - val_acc: 0.9923\n",
            "Test loss: 0.02516569264771133\n",
            "Test accuracy: 0.9923\n"
          ],
          "name": "stdout"
        }
      ]
    },
    {
      "metadata": {
        "id": "K1r-KMKdFY8k",
        "colab_type": "code",
        "outputId": "4b796749-8590-4a0f-89f3-c50d9ef12bcd",
        "colab": {
          "base_uri": "https://localhost:8080/",
          "height": 361
        }
      },
      "cell_type": "code",
      "source": [
        "TrainLoss=[0.2339,0.0837 ,0.0648,0.0543,0.0474,0.0428 ,0.0364,0.0366,0.0350,0.0319,0.0286,0.0290]\n",
        "ValidationLoss=[0.052 ,0.0414,0.0330,0.03,0.0374,0.0263,0.0347,0.0294,0.0266 ,0.0254,0.0271,0.0252]\n",
        "epochs=[1,2,3,4,5,6,7,8,9,10,11,12]\n",
        "import matplotlib.pyplot as plt\n",
        "import numpy as np\n",
        "def plt_dynamic(x, vy, ty, ax, colors=['b']):\n",
        "    ax.plot(x, vy, 'b', label=\"Validation Loss\")\n",
        "    ax.plot(x, ty, 'r', label=\"Train Loss\")\n",
        "    plt.legend()\n",
        "    plt.grid()\n",
        "    fig.canvas.draw()\n",
        "fig,ax = plt.subplots(1,1)\n",
        "ax.set_xlabel('epochs') ; ax.set_ylabel('Categorical Crossentropy Loss')\n",
        "ty= TrainLoss\n",
        "vy= ValidationLoss\n",
        "x=epochs\n",
        "plt_dynamic(x, vy, ty, ax)"
      ],
      "execution_count": 0,
      "outputs": [
        {
          "output_type": "display_data",
          "data": {
            "image/png": "[encoded data removed]",
            "text/plain": [
              "<matplotlib.figure.Figure at 0x7fab40c38748>"
            ]
          },
          "metadata": {
            "tags": []
          }
        }
      ]
    },
    {
      "metadata": {
        "id": "KM96bw5N1fSn",
        "colab_type": "text"
      },
      "cell_type": "markdown",
      "source": [
        "# Case-3\n"
      ]
    },
    {
      "metadata": {
        "id": "STFMNyUzJGRx",
        "colab_type": "code",
        "outputId": "00868ebc-c7cc-41af-f2c8-972d1aebf49e",
        "colab": {
          "base_uri": "https://localhost:8080/",
          "height": 518
        }
      },
      "cell_type": "code",
      "source": [
        "\n",
        "\n",
        "from __future__ import print_function\n",
        "import keras\n",
        "from keras.datasets import mnist\n",
        "from keras.models import Sequential\n",
        "from keras.layers import Dense, Dropout, Flatten\n",
        "from keras.layers import Conv2D, MaxPooling2D\n",
        "from keras import backend as K\n",
        "from keras.layers.normalization import BatchNormalization\n",
        "\n",
        "\n",
        "batch_size = 128\n",
        "num_classes = 10\n",
        "epochs = 12\n",
        "\n",
        "# input image dimensions\n",
        "img_rows, img_cols = 28, 28\n",
        "\n",
        "# the data, split between train and test sets\n",
        "(x_train, y_train), (x_test, y_test) = mnist.load_data()\n",
        "\n",
        "if K.image_data_format() == 'channels_first':\n",
        "    x_train = x_train.reshape(x_train.shape[0], 1, img_rows, img_cols)\n",
        "    x_test = x_test.reshape(x_test.shape[0], 1, img_rows, img_cols)\n",
        "    input_shape = (1, img_rows, img_cols)\n",
        "else:\n",
        "    x_train = x_train.reshape(x_train.shape[0], img_rows, img_cols, 1)\n",
        "    x_test = x_test.reshape(x_test.shape[0], img_rows, img_cols, 1)\n",
        "    input_shape = (img_rows, img_cols, 1)\n",
        "\n",
        "x_train = x_train.astype('float32')\n",
        "x_test = x_test.astype('float32')\n",
        "x_train /= 255\n",
        "x_test /= 255\n",
        "print('x_train shape:', x_train.shape)\n",
        "print(x_train.shape[0], 'train samples')\n",
        "print(x_test.shape[0], 'test samples')\n",
        "\n",
        "# convert class vectors to binary class matrices\n",
        "y_train = keras.utils.to_categorical(y_train, num_classes)\n",
        "y_test = keras.utils.to_categorical(y_test, num_classes)\n",
        "\n",
        "model = Sequential()\n",
        "model.add(Conv2D(32, kernel_size=(3, 3),\n",
        "                 activation='relu',\n",
        "                 input_shape=input_shape))\n",
        "model.add(BatchNormalization())\n",
        "\n",
        "model.add(Conv2D(64, (2, 2), activation='relu'))\n",
        "model.add(BatchNormalization())\n",
        "\n",
        "model.add(MaxPooling2D(pool_size=(2, 2)))\n",
        "model.add(Flatten())\n",
        "model.add(Dense(128, activation='relu'))\n",
        "model.add(BatchNormalization())\n",
        "\n",
        "model.add(Dense(num_classes, activation='softmax'))\n",
        "\n",
        "model.compile(loss=keras.losses.categorical_crossentropy,\n",
        "              optimizer=keras.optimizers.Adam(),\n",
        "              metrics=['accuracy'])\n",
        "\n",
        "model.fit(x_train, y_train,\n",
        "          batch_size=batch_size,\n",
        "          epochs=epochs,\n",
        "          verbose=1,\n",
        "          validation_data=(x_test, y_test))\n",
        "score = model.evaluate(x_test, y_test, verbose=0)\n",
        "print('Test loss:', score[0])\n",
        "print('Test accuracy:', score[1])"
      ],
      "execution_count": 0,
      "outputs": [
        {
          "output_type": "stream",
          "text": [
            "x_train shape: (60000, 28, 28, 1)\n",
            "60000 train samples\n",
            "10000 test samples\n",
            "Train on 60000 samples, validate on 10000 samples\n",
            "Epoch 1/12\n",
            "60000/60000 [==============================] - 362s 6ms/step - loss: 0.1003 - acc: 0.9706 - val_loss: 0.0445 - val_acc: 0.9872\n",
            "Epoch 2/12\n",
            "60000/60000 [==============================] - 361s 6ms/step - loss: 0.0309 - acc: 0.9912 - val_loss: 0.0434 - val_acc: 0.9856\n",
            "Epoch 3/12\n",
            "60000/60000 [==============================] - 360s 6ms/step - loss: 0.0159 - acc: 0.9955 - val_loss: 0.0359 - val_acc: 0.9881\n",
            "Epoch 4/12\n",
            "60000/60000 [==============================] - 361s 6ms/step - loss: 0.0095 - acc: 0.9974 - val_loss: 0.0391 - val_acc: 0.9881\n",
            "Epoch 5/12\n",
            "60000/60000 [==============================] - 359s 6ms/step - loss: 0.0065 - acc: 0.9982 - val_loss: 0.0355 - val_acc: 0.9890\n",
            "Epoch 6/12\n",
            "60000/60000 [==============================] - 357s 6ms/step - loss: 0.0065 - acc: 0.9982 - val_loss: 0.0408 - val_acc: 0.9875\n",
            "Epoch 7/12\n",
            "60000/60000 [==============================] - 358s 6ms/step - loss: 0.0064 - acc: 0.9979 - val_loss: 0.0363 - val_acc: 0.9893\n",
            "Epoch 8/12\n",
            "60000/60000 [==============================] - 355s 6ms/step - loss: 0.0044 - acc: 0.9987 - val_loss: 0.0458 - val_acc: 0.9852\n",
            "Epoch 9/12\n",
            "60000/60000 [==============================] - 354s 6ms/step - loss: 0.0067 - acc: 0.9979 - val_loss: 0.0421 - val_acc: 0.9880\n",
            "Epoch 10/12\n",
            "60000/60000 [==============================] - 353s 6ms/step - loss: 0.0037 - acc: 0.9989 - val_loss: 0.0435 - val_acc: 0.9887\n",
            "Epoch 11/12\n",
            "60000/60000 [==============================] - 355s 6ms/step - loss: 0.0047 - acc: 0.9985 - val_loss: 0.0458 - val_acc: 0.9872\n",
            "Epoch 12/12\n",
            "60000/60000 [==============================] - 358s 6ms/step - loss: 0.0034 - acc: 0.9991 - val_loss: 0.0370 - val_acc: 0.9905\n",
            "Test loss: 0.03695532853520817\n",
            "Test accuracy: 0.9905\n"
          ],
          "name": "stdout"
        }
      ]
    },
    {
      "metadata": {
        "id": "e0WIIhf8GE8n",
        "colab_type": "code",
        "outputId": "4e49ae28-0e58-41b2-d9f0-4b98e16563e4",
        "colab": {
          "base_uri": "https://localhost:8080/",
          "height": 361
        }
      },
      "cell_type": "code",
      "source": [
        "TrainLoss=[0.1003,0.03090 ,0.0159,0.0095,0.0065,0.0065 ,0.0064,0.0044,0.0067,0.0037,0.0047,0.0034]\n",
        "ValidationLoss=[0.0445,0.0434,0.0359,0.0391,0.0355,0.0408,0.0363,0.0458,0.0421 ,0.0435,0.0458,0.0370]\n",
        "epochs=[1,2,3,4,5,6,7,8,9,10,11,12]\n",
        "import matplotlib.pyplot as plt\n",
        "import numpy as np\n",
        "def plt_dynamic(x, vy, ty, ax, colors=['b']):\n",
        "    ax.plot(x, vy, 'b', label=\"Validation Loss\")\n",
        "    ax.plot(x, ty, 'r', label=\"Train Loss\")\n",
        "    plt.legend()\n",
        "    plt.grid()\n",
        "    fig.canvas.draw()\n",
        "fig,ax = plt.subplots(1,1)\n",
        "ax.set_xlabel('epochs') ; ax.set_ylabel('Categorical Crossentropy Loss')\n",
        "ty= TrainLoss\n",
        "vy= ValidationLoss\n",
        "x=epochs\n",
        "plt_dynamic(x, vy, ty, ax)"
      ],
      "execution_count": 0,
      "outputs": [
        {
          "output_type": "display_data",
          "data": {
            "image/png": "[encoded data removed]",
            "text/plain": [
              "<matplotlib.figure.Figure at 0x7fab40c0f278>"
            ]
          },
          "metadata": {
            "tags": []
          }
        }
      ]
    },
    {
      "metadata": {
        "id": "kwX7pSwyBn7L",
        "colab_type": "text"
      },
      "cell_type": "markdown",
      "source": [
        "# Summary:"
      ]
    },
    {
      "metadata": {
        "id": "ODLuaLI_FTyz",
        "colab_type": "code",
        "outputId": "ded65e46-09f6-4d00-a6ae-af3eb0f8f107",
        "colab": {
          "base_uri": "https://localhost:8080/",
          "height": 117
        }
      },
      "cell_type": "code",
      "source": [
        "!pip install tabulate\n",
        "from tabulate import tabulate\n",
        "print (tabulate([[\"Case-1\",'5*5 and 3*3','1','Yes','No', 'Adagrad', '99.21'],[\"Case-2\",'4*4 and 2*2','2','Yes', 'Yes', 'Adagrad', '99.23'],[\"Case-3\",'3*3 and 2*2','1','No', 'Yes', 'Adam', '99.05']],headers=['CASE','CNN SIZE','NO.OF MAX POOL','DROPOUT','BATCH NORMALIZATION','OPTIMIZER','ACCURACY'] ))"
      ],
      "execution_count": 0,
      "outputs": [
        {
          "output_type": "stream",
          "text": [
            "Requirement already satisfied: tabulate in /usr/local/lib/python3.6/dist-packages (0.8.2)\n",
            "CASE    CNN SIZE       NO.OF MAX POOL  DROPOUT    BATCH NORMALIZATION    OPTIMIZER      ACCURACY\n",
            "------  -----------  ----------------  ---------  ---------------------  -----------  ----------\n",
            "Case-1  5*5 and 3*3                 1  Yes        No                     Adagrad           99.21\n",
            "Case-2  4*4 and 2*2                 2  Yes        Yes                    Adagrad           99.23\n",
            "Case-3  3*3 and 2*2                 1  No         Yes                    Adam              99.05\n"
          ],
          "name": "stdout"
        }
      ]
    },
    {
      "metadata": {
        "id": "duLyfdBF-HrW",
        "colab_type": "text"
      },
      "cell_type": "markdown",
      "source": [
        "# Comments:\n",
        "**1) The computational time was significantly higher in Case-3 compared to other two cases as I didn't use Dropout technique**\n",
        "\n",
        "** 2) Dropout technique is very crucial when you are dealing with large data sets and operations **\n",
        "\n",
        "**3) Even though we used small sized CNN filters in Case-2 , the accuracy is silmilar to Case-1(which used larger CNN filters) due to Batch Normalization technique**\n",
        "\n",
        "**4) More number of computations doesn't guarantee us higher accuracy( Like Case-3) **\n"
      ]
    }
  ]
}